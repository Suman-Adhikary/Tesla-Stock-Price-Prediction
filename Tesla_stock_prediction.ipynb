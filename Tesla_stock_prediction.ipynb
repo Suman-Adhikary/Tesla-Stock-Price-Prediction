{
 "cells": [
  {
   "cell_type": "markdown",
   "id": "462c91ef",
   "metadata": {},
   "source": [
    "# Tesla Stock Price Prediction Using Multiple Linear Regression"
   ]
  },
  {
   "cell_type": "markdown",
   "id": "cdd29ea9",
   "metadata": {},
   "source": [
    "## Import Packages"
   ]
  },
  {
   "cell_type": "code",
   "execution_count": 543,
   "id": "8d32594b-a9b5-49d9-9f1e-4c17d4974518",
   "metadata": {},
   "outputs": [],
   "source": [
    "import pandas as pd\n",
    "import matplotlib.pyplot as plt\n",
    "import plotly.express as px\n",
    "import numpy as np"
   ]
  },
  {
   "cell_type": "markdown",
   "id": "48fb71ca",
   "metadata": {},
   "source": [
    "## Import Dataset"
   ]
  },
  {
   "cell_type": "code",
   "execution_count": 544,
   "id": "f733901b-d366-46b5-a180-ce053ce70d12",
   "metadata": {},
   "outputs": [],
   "source": [
    "dataset = pd.read_csv('TSLA.csv')"
   ]
  },
  {
   "cell_type": "code",
   "execution_count": 545,
   "id": "d488dfc7-eee0-4609-8bb0-7bd248cc8bc9",
   "metadata": {},
   "outputs": [
    {
     "data": {
      "text/html": [
       "<div>\n",
       "<style scoped>\n",
       "    .dataframe tbody tr th:only-of-type {\n",
       "        vertical-align: middle;\n",
       "    }\n",
       "\n",
       "    .dataframe tbody tr th {\n",
       "        vertical-align: top;\n",
       "    }\n",
       "\n",
       "    .dataframe thead th {\n",
       "        text-align: right;\n",
       "    }\n",
       "</style>\n",
       "<table border=\"1\" class=\"dataframe\">\n",
       "  <thead>\n",
       "    <tr style=\"text-align: right;\">\n",
       "      <th></th>\n",
       "      <th>Date</th>\n",
       "      <th>Open</th>\n",
       "      <th>High</th>\n",
       "      <th>Low</th>\n",
       "      <th>Close</th>\n",
       "      <th>Adj Close</th>\n",
       "      <th>Volume</th>\n",
       "    </tr>\n",
       "  </thead>\n",
       "  <tbody>\n",
       "    <tr>\n",
       "      <th>0</th>\n",
       "      <td>2021-11-24</td>\n",
       "      <td>360.130005</td>\n",
       "      <td>377.589996</td>\n",
       "      <td>354.000000</td>\n",
       "      <td>372.000000</td>\n",
       "      <td>372.000000</td>\n",
       "      <td>67680600</td>\n",
       "    </tr>\n",
       "    <tr>\n",
       "      <th>1</th>\n",
       "      <td>2021-11-26</td>\n",
       "      <td>366.489990</td>\n",
       "      <td>369.593323</td>\n",
       "      <td>360.333344</td>\n",
       "      <td>360.640015</td>\n",
       "      <td>360.640015</td>\n",
       "      <td>35042700</td>\n",
       "    </tr>\n",
       "    <tr>\n",
       "      <th>2</th>\n",
       "      <td>2021-11-29</td>\n",
       "      <td>366.996674</td>\n",
       "      <td>380.890015</td>\n",
       "      <td>366.730011</td>\n",
       "      <td>378.996674</td>\n",
       "      <td>378.996674</td>\n",
       "      <td>58393500</td>\n",
       "    </tr>\n",
       "    <tr>\n",
       "      <th>3</th>\n",
       "      <td>2021-11-30</td>\n",
       "      <td>381.456665</td>\n",
       "      <td>389.333344</td>\n",
       "      <td>372.666656</td>\n",
       "      <td>381.586670</td>\n",
       "      <td>381.586670</td>\n",
       "      <td>81276000</td>\n",
       "    </tr>\n",
       "    <tr>\n",
       "      <th>4</th>\n",
       "      <td>2021-12-01</td>\n",
       "      <td>386.899994</td>\n",
       "      <td>390.946655</td>\n",
       "      <td>363.586670</td>\n",
       "      <td>365.000000</td>\n",
       "      <td>365.000000</td>\n",
       "      <td>68450400</td>\n",
       "    </tr>\n",
       "    <tr>\n",
       "      <th>...</th>\n",
       "      <td>...</td>\n",
       "      <td>...</td>\n",
       "      <td>...</td>\n",
       "      <td>...</td>\n",
       "      <td>...</td>\n",
       "      <td>...</td>\n",
       "      <td>...</td>\n",
       "    </tr>\n",
       "    <tr>\n",
       "      <th>247</th>\n",
       "      <td>2022-11-17</td>\n",
       "      <td>183.960007</td>\n",
       "      <td>186.160004</td>\n",
       "      <td>180.899994</td>\n",
       "      <td>183.169998</td>\n",
       "      <td>183.169998</td>\n",
       "      <td>64336000</td>\n",
       "    </tr>\n",
       "    <tr>\n",
       "      <th>248</th>\n",
       "      <td>2022-11-18</td>\n",
       "      <td>185.050003</td>\n",
       "      <td>185.190002</td>\n",
       "      <td>176.550003</td>\n",
       "      <td>180.190002</td>\n",
       "      <td>180.190002</td>\n",
       "      <td>75904900</td>\n",
       "    </tr>\n",
       "    <tr>\n",
       "      <th>249</th>\n",
       "      <td>2022-11-21</td>\n",
       "      <td>175.850006</td>\n",
       "      <td>176.770004</td>\n",
       "      <td>167.539993</td>\n",
       "      <td>167.869995</td>\n",
       "      <td>167.869995</td>\n",
       "      <td>92882700</td>\n",
       "    </tr>\n",
       "    <tr>\n",
       "      <th>250</th>\n",
       "      <td>2022-11-22</td>\n",
       "      <td>168.630005</td>\n",
       "      <td>170.919998</td>\n",
       "      <td>166.190002</td>\n",
       "      <td>169.910004</td>\n",
       "      <td>169.910004</td>\n",
       "      <td>78452300</td>\n",
       "    </tr>\n",
       "    <tr>\n",
       "      <th>251</th>\n",
       "      <td>2022-11-23</td>\n",
       "      <td>173.570007</td>\n",
       "      <td>183.619995</td>\n",
       "      <td>172.500000</td>\n",
       "      <td>183.199997</td>\n",
       "      <td>183.199997</td>\n",
       "      <td>109191900</td>\n",
       "    </tr>\n",
       "  </tbody>\n",
       "</table>\n",
       "<p>252 rows × 7 columns</p>\n",
       "</div>"
      ],
      "text/plain": [
       "           Date        Open        High         Low       Close   Adj Close  \\\n",
       "0    2021-11-24  360.130005  377.589996  354.000000  372.000000  372.000000   \n",
       "1    2021-11-26  366.489990  369.593323  360.333344  360.640015  360.640015   \n",
       "2    2021-11-29  366.996674  380.890015  366.730011  378.996674  378.996674   \n",
       "3    2021-11-30  381.456665  389.333344  372.666656  381.586670  381.586670   \n",
       "4    2021-12-01  386.899994  390.946655  363.586670  365.000000  365.000000   \n",
       "..          ...         ...         ...         ...         ...         ...   \n",
       "247  2022-11-17  183.960007  186.160004  180.899994  183.169998  183.169998   \n",
       "248  2022-11-18  185.050003  185.190002  176.550003  180.190002  180.190002   \n",
       "249  2022-11-21  175.850006  176.770004  167.539993  167.869995  167.869995   \n",
       "250  2022-11-22  168.630005  170.919998  166.190002  169.910004  169.910004   \n",
       "251  2022-11-23  173.570007  183.619995  172.500000  183.199997  183.199997   \n",
       "\n",
       "        Volume  \n",
       "0     67680600  \n",
       "1     35042700  \n",
       "2     58393500  \n",
       "3     81276000  \n",
       "4     68450400  \n",
       "..         ...  \n",
       "247   64336000  \n",
       "248   75904900  \n",
       "249   92882700  \n",
       "250   78452300  \n",
       "251  109191900  \n",
       "\n",
       "[252 rows x 7 columns]"
      ]
     },
     "execution_count": 545,
     "metadata": {},
     "output_type": "execute_result"
    }
   ],
   "source": [
    "dataset"
   ]
  },
  {
   "cell_type": "code",
   "execution_count": 546,
   "id": "524ec6d5-e30f-4fbc-bbe7-313d81835129",
   "metadata": {},
   "outputs": [
    {
     "data": {
      "text/html": [
       "<div>\n",
       "<style scoped>\n",
       "    .dataframe tbody tr th:only-of-type {\n",
       "        vertical-align: middle;\n",
       "    }\n",
       "\n",
       "    .dataframe tbody tr th {\n",
       "        vertical-align: top;\n",
       "    }\n",
       "\n",
       "    .dataframe thead th {\n",
       "        text-align: right;\n",
       "    }\n",
       "</style>\n",
       "<table border=\"1\" class=\"dataframe\">\n",
       "  <thead>\n",
       "    <tr style=\"text-align: right;\">\n",
       "      <th></th>\n",
       "      <th>Date</th>\n",
       "      <th>Open</th>\n",
       "      <th>High</th>\n",
       "      <th>Low</th>\n",
       "      <th>Close</th>\n",
       "      <th>Adj Close</th>\n",
       "      <th>Volume</th>\n",
       "    </tr>\n",
       "  </thead>\n",
       "  <tbody>\n",
       "    <tr>\n",
       "      <th>0</th>\n",
       "      <td>2021-11-24</td>\n",
       "      <td>360.130005</td>\n",
       "      <td>377.589996</td>\n",
       "      <td>354.000000</td>\n",
       "      <td>372.000000</td>\n",
       "      <td>372.000000</td>\n",
       "      <td>67680600</td>\n",
       "    </tr>\n",
       "    <tr>\n",
       "      <th>1</th>\n",
       "      <td>2021-11-26</td>\n",
       "      <td>366.489990</td>\n",
       "      <td>369.593323</td>\n",
       "      <td>360.333344</td>\n",
       "      <td>360.640015</td>\n",
       "      <td>360.640015</td>\n",
       "      <td>35042700</td>\n",
       "    </tr>\n",
       "    <tr>\n",
       "      <th>2</th>\n",
       "      <td>2021-11-29</td>\n",
       "      <td>366.996674</td>\n",
       "      <td>380.890015</td>\n",
       "      <td>366.730011</td>\n",
       "      <td>378.996674</td>\n",
       "      <td>378.996674</td>\n",
       "      <td>58393500</td>\n",
       "    </tr>\n",
       "    <tr>\n",
       "      <th>3</th>\n",
       "      <td>2021-11-30</td>\n",
       "      <td>381.456665</td>\n",
       "      <td>389.333344</td>\n",
       "      <td>372.666656</td>\n",
       "      <td>381.586670</td>\n",
       "      <td>381.586670</td>\n",
       "      <td>81276000</td>\n",
       "    </tr>\n",
       "    <tr>\n",
       "      <th>4</th>\n",
       "      <td>2021-12-01</td>\n",
       "      <td>386.899994</td>\n",
       "      <td>390.946655</td>\n",
       "      <td>363.586670</td>\n",
       "      <td>365.000000</td>\n",
       "      <td>365.000000</td>\n",
       "      <td>68450400</td>\n",
       "    </tr>\n",
       "  </tbody>\n",
       "</table>\n",
       "</div>"
      ],
      "text/plain": [
       "         Date        Open        High         Low       Close   Adj Close  \\\n",
       "0  2021-11-24  360.130005  377.589996  354.000000  372.000000  372.000000   \n",
       "1  2021-11-26  366.489990  369.593323  360.333344  360.640015  360.640015   \n",
       "2  2021-11-29  366.996674  380.890015  366.730011  378.996674  378.996674   \n",
       "3  2021-11-30  381.456665  389.333344  372.666656  381.586670  381.586670   \n",
       "4  2021-12-01  386.899994  390.946655  363.586670  365.000000  365.000000   \n",
       "\n",
       "     Volume  \n",
       "0  67680600  \n",
       "1  35042700  \n",
       "2  58393500  \n",
       "3  81276000  \n",
       "4  68450400  "
      ]
     },
     "execution_count": 546,
     "metadata": {},
     "output_type": "execute_result"
    }
   ],
   "source": [
    "dataset.head()"
   ]
  },
  {
   "cell_type": "code",
   "execution_count": 547,
   "id": "191f15e7",
   "metadata": {},
   "outputs": [
    {
     "data": {
      "text/html": [
       "<div>\n",
       "<style scoped>\n",
       "    .dataframe tbody tr th:only-of-type {\n",
       "        vertical-align: middle;\n",
       "    }\n",
       "\n",
       "    .dataframe tbody tr th {\n",
       "        vertical-align: top;\n",
       "    }\n",
       "\n",
       "    .dataframe thead th {\n",
       "        text-align: right;\n",
       "    }\n",
       "</style>\n",
       "<table border=\"1\" class=\"dataframe\">\n",
       "  <thead>\n",
       "    <tr style=\"text-align: right;\">\n",
       "      <th></th>\n",
       "      <th>Open</th>\n",
       "      <th>High</th>\n",
       "      <th>Low</th>\n",
       "      <th>Close</th>\n",
       "      <th>Adj Close</th>\n",
       "      <th>Volume</th>\n",
       "    </tr>\n",
       "  </thead>\n",
       "  <tbody>\n",
       "    <tr>\n",
       "      <th>count</th>\n",
       "      <td>252.000000</td>\n",
       "      <td>252.000000</td>\n",
       "      <td>252.000000</td>\n",
       "      <td>252.000000</td>\n",
       "      <td>252.000000</td>\n",
       "      <td>2.520000e+02</td>\n",
       "    </tr>\n",
       "    <tr>\n",
       "      <th>mean</th>\n",
       "      <td>282.854153</td>\n",
       "      <td>289.679762</td>\n",
       "      <td>274.778505</td>\n",
       "      <td>281.935542</td>\n",
       "      <td>281.935542</td>\n",
       "      <td>8.060468e+07</td>\n",
       "    </tr>\n",
       "    <tr>\n",
       "      <th>std</th>\n",
       "      <td>50.844247</td>\n",
       "      <td>51.421762</td>\n",
       "      <td>49.623261</td>\n",
       "      <td>50.469315</td>\n",
       "      <td>50.469315</td>\n",
       "      <td>2.158657e+07</td>\n",
       "    </tr>\n",
       "    <tr>\n",
       "      <th>min</th>\n",
       "      <td>168.630005</td>\n",
       "      <td>170.919998</td>\n",
       "      <td>166.190002</td>\n",
       "      <td>167.869995</td>\n",
       "      <td>167.869995</td>\n",
       "      <td>3.504270e+07</td>\n",
       "    </tr>\n",
       "    <tr>\n",
       "      <th>25%</th>\n",
       "      <td>239.860001</td>\n",
       "      <td>246.792496</td>\n",
       "      <td>233.556668</td>\n",
       "      <td>238.743339</td>\n",
       "      <td>238.743339</td>\n",
       "      <td>6.568088e+07</td>\n",
       "    </tr>\n",
       "    <tr>\n",
       "      <th>50%</th>\n",
       "      <td>287.529999</td>\n",
       "      <td>293.940002</td>\n",
       "      <td>279.151673</td>\n",
       "      <td>287.238327</td>\n",
       "      <td>287.238327</td>\n",
       "      <td>7.857645e+07</td>\n",
       "    </tr>\n",
       "    <tr>\n",
       "      <th>75%</th>\n",
       "      <td>312.054161</td>\n",
       "      <td>320.699165</td>\n",
       "      <td>305.144997</td>\n",
       "      <td>312.297493</td>\n",
       "      <td>312.297493</td>\n",
       "      <td>9.303030e+07</td>\n",
       "    </tr>\n",
       "    <tr>\n",
       "      <th>max</th>\n",
       "      <td>396.516663</td>\n",
       "      <td>402.666656</td>\n",
       "      <td>378.679993</td>\n",
       "      <td>399.926666</td>\n",
       "      <td>399.926666</td>\n",
       "      <td>1.515657e+08</td>\n",
       "    </tr>\n",
       "  </tbody>\n",
       "</table>\n",
       "</div>"
      ],
      "text/plain": [
       "             Open        High         Low       Close   Adj Close  \\\n",
       "count  252.000000  252.000000  252.000000  252.000000  252.000000   \n",
       "mean   282.854153  289.679762  274.778505  281.935542  281.935542   \n",
       "std     50.844247   51.421762   49.623261   50.469315   50.469315   \n",
       "min    168.630005  170.919998  166.190002  167.869995  167.869995   \n",
       "25%    239.860001  246.792496  233.556668  238.743339  238.743339   \n",
       "50%    287.529999  293.940002  279.151673  287.238327  287.238327   \n",
       "75%    312.054161  320.699165  305.144997  312.297493  312.297493   \n",
       "max    396.516663  402.666656  378.679993  399.926666  399.926666   \n",
       "\n",
       "             Volume  \n",
       "count  2.520000e+02  \n",
       "mean   8.060468e+07  \n",
       "std    2.158657e+07  \n",
       "min    3.504270e+07  \n",
       "25%    6.568088e+07  \n",
       "50%    7.857645e+07  \n",
       "75%    9.303030e+07  \n",
       "max    1.515657e+08  "
      ]
     },
     "execution_count": 547,
     "metadata": {},
     "output_type": "execute_result"
    }
   ],
   "source": [
    "dataset.describe()"
   ]
  },
  {
   "cell_type": "code",
   "execution_count": 548,
   "id": "010d37a4",
   "metadata": {},
   "outputs": [
    {
     "data": {
      "text/plain": [
       "Date         0\n",
       "Open         0\n",
       "High         0\n",
       "Low          0\n",
       "Close        0\n",
       "Adj Close    0\n",
       "Volume       0\n",
       "dtype: int64"
      ]
     },
     "execution_count": 548,
     "metadata": {},
     "output_type": "execute_result"
    }
   ],
   "source": [
    "dataset.isna().sum()"
   ]
  },
  {
   "cell_type": "code",
   "execution_count": 549,
   "id": "15ce1022",
   "metadata": {},
   "outputs": [
    {
     "data": {
      "text/plain": [
       "(252, 7)"
      ]
     },
     "execution_count": 549,
     "metadata": {},
     "output_type": "execute_result"
    }
   ],
   "source": [
    "dataset.shape"
   ]
  },
  {
   "cell_type": "code",
   "execution_count": 550,
   "id": "714c81a4",
   "metadata": {},
   "outputs": [
    {
     "name": "stdout",
     "output_type": "stream",
     "text": [
      "<class 'pandas.core.frame.DataFrame'>\n",
      "RangeIndex: 252 entries, 0 to 251\n",
      "Data columns (total 7 columns):\n",
      " #   Column     Non-Null Count  Dtype  \n",
      "---  ------     --------------  -----  \n",
      " 0   Date       252 non-null    object \n",
      " 1   Open       252 non-null    float64\n",
      " 2   High       252 non-null    float64\n",
      " 3   Low        252 non-null    float64\n",
      " 4   Close      252 non-null    float64\n",
      " 5   Adj Close  252 non-null    float64\n",
      " 6   Volume     252 non-null    int64  \n",
      "dtypes: float64(5), int64(1), object(1)\n",
      "memory usage: 13.9+ KB\n"
     ]
    }
   ],
   "source": [
    "dataset.info()"
   ]
  },
  {
   "cell_type": "markdown",
   "id": "5433daab",
   "metadata": {},
   "source": [
    "### Convert date object to date type"
   ]
  },
  {
   "cell_type": "code",
   "execution_count": 551,
   "id": "3166d5d0",
   "metadata": {},
   "outputs": [
    {
     "name": "stdout",
     "output_type": "stream",
     "text": [
      "<class 'pandas.core.frame.DataFrame'>\n",
      "RangeIndex: 252 entries, 0 to 251\n",
      "Data columns (total 7 columns):\n",
      " #   Column     Non-Null Count  Dtype         \n",
      "---  ------     --------------  -----         \n",
      " 0   Date       252 non-null    datetime64[ns]\n",
      " 1   Open       252 non-null    float64       \n",
      " 2   High       252 non-null    float64       \n",
      " 3   Low        252 non-null    float64       \n",
      " 4   Close      252 non-null    float64       \n",
      " 5   Adj Close  252 non-null    float64       \n",
      " 6   Volume     252 non-null    int64         \n",
      "dtypes: datetime64[ns](1), float64(5), int64(1)\n",
      "memory usage: 13.9 KB\n"
     ]
    }
   ],
   "source": [
    "dataset['Date'] = pd.to_datetime(dataset['Date'])\n",
    "dataset.info()"
   ]
  },
  {
   "cell_type": "code",
   "execution_count": 552,
   "id": "bfc8c346",
   "metadata": {},
   "outputs": [
    {
     "data": {
      "text/html": [
       "<div>\n",
       "<style scoped>\n",
       "    .dataframe tbody tr th:only-of-type {\n",
       "        vertical-align: middle;\n",
       "    }\n",
       "\n",
       "    .dataframe tbody tr th {\n",
       "        vertical-align: top;\n",
       "    }\n",
       "\n",
       "    .dataframe thead th {\n",
       "        text-align: right;\n",
       "    }\n",
       "</style>\n",
       "<table border=\"1\" class=\"dataframe\">\n",
       "  <thead>\n",
       "    <tr style=\"text-align: right;\">\n",
       "      <th></th>\n",
       "      <th>Date</th>\n",
       "      <th>Open</th>\n",
       "      <th>High</th>\n",
       "      <th>Low</th>\n",
       "      <th>Close</th>\n",
       "      <th>Adj Close</th>\n",
       "      <th>Volume</th>\n",
       "    </tr>\n",
       "  </thead>\n",
       "  <tbody>\n",
       "    <tr>\n",
       "      <th>0</th>\n",
       "      <td>2021-11-24</td>\n",
       "      <td>360.130005</td>\n",
       "      <td>377.589996</td>\n",
       "      <td>354.000000</td>\n",
       "      <td>372.000000</td>\n",
       "      <td>372.000000</td>\n",
       "      <td>67680600</td>\n",
       "    </tr>\n",
       "    <tr>\n",
       "      <th>1</th>\n",
       "      <td>2021-11-26</td>\n",
       "      <td>366.489990</td>\n",
       "      <td>369.593323</td>\n",
       "      <td>360.333344</td>\n",
       "      <td>360.640015</td>\n",
       "      <td>360.640015</td>\n",
       "      <td>35042700</td>\n",
       "    </tr>\n",
       "    <tr>\n",
       "      <th>2</th>\n",
       "      <td>2021-11-29</td>\n",
       "      <td>366.996674</td>\n",
       "      <td>380.890015</td>\n",
       "      <td>366.730011</td>\n",
       "      <td>378.996674</td>\n",
       "      <td>378.996674</td>\n",
       "      <td>58393500</td>\n",
       "    </tr>\n",
       "    <tr>\n",
       "      <th>3</th>\n",
       "      <td>2021-11-30</td>\n",
       "      <td>381.456665</td>\n",
       "      <td>389.333344</td>\n",
       "      <td>372.666656</td>\n",
       "      <td>381.586670</td>\n",
       "      <td>381.586670</td>\n",
       "      <td>81276000</td>\n",
       "    </tr>\n",
       "    <tr>\n",
       "      <th>4</th>\n",
       "      <td>2021-12-01</td>\n",
       "      <td>386.899994</td>\n",
       "      <td>390.946655</td>\n",
       "      <td>363.586670</td>\n",
       "      <td>365.000000</td>\n",
       "      <td>365.000000</td>\n",
       "      <td>68450400</td>\n",
       "    </tr>\n",
       "    <tr>\n",
       "      <th>...</th>\n",
       "      <td>...</td>\n",
       "      <td>...</td>\n",
       "      <td>...</td>\n",
       "      <td>...</td>\n",
       "      <td>...</td>\n",
       "      <td>...</td>\n",
       "      <td>...</td>\n",
       "    </tr>\n",
       "    <tr>\n",
       "      <th>247</th>\n",
       "      <td>2022-11-17</td>\n",
       "      <td>183.960007</td>\n",
       "      <td>186.160004</td>\n",
       "      <td>180.899994</td>\n",
       "      <td>183.169998</td>\n",
       "      <td>183.169998</td>\n",
       "      <td>64336000</td>\n",
       "    </tr>\n",
       "    <tr>\n",
       "      <th>248</th>\n",
       "      <td>2022-11-18</td>\n",
       "      <td>185.050003</td>\n",
       "      <td>185.190002</td>\n",
       "      <td>176.550003</td>\n",
       "      <td>180.190002</td>\n",
       "      <td>180.190002</td>\n",
       "      <td>75904900</td>\n",
       "    </tr>\n",
       "    <tr>\n",
       "      <th>249</th>\n",
       "      <td>2022-11-21</td>\n",
       "      <td>175.850006</td>\n",
       "      <td>176.770004</td>\n",
       "      <td>167.539993</td>\n",
       "      <td>167.869995</td>\n",
       "      <td>167.869995</td>\n",
       "      <td>92882700</td>\n",
       "    </tr>\n",
       "    <tr>\n",
       "      <th>250</th>\n",
       "      <td>2022-11-22</td>\n",
       "      <td>168.630005</td>\n",
       "      <td>170.919998</td>\n",
       "      <td>166.190002</td>\n",
       "      <td>169.910004</td>\n",
       "      <td>169.910004</td>\n",
       "      <td>78452300</td>\n",
       "    </tr>\n",
       "    <tr>\n",
       "      <th>251</th>\n",
       "      <td>2022-11-23</td>\n",
       "      <td>173.570007</td>\n",
       "      <td>183.619995</td>\n",
       "      <td>172.500000</td>\n",
       "      <td>183.199997</td>\n",
       "      <td>183.199997</td>\n",
       "      <td>109191900</td>\n",
       "    </tr>\n",
       "  </tbody>\n",
       "</table>\n",
       "<p>252 rows × 7 columns</p>\n",
       "</div>"
      ],
      "text/plain": [
       "          Date        Open        High         Low       Close   Adj Close  \\\n",
       "0   2021-11-24  360.130005  377.589996  354.000000  372.000000  372.000000   \n",
       "1   2021-11-26  366.489990  369.593323  360.333344  360.640015  360.640015   \n",
       "2   2021-11-29  366.996674  380.890015  366.730011  378.996674  378.996674   \n",
       "3   2021-11-30  381.456665  389.333344  372.666656  381.586670  381.586670   \n",
       "4   2021-12-01  386.899994  390.946655  363.586670  365.000000  365.000000   \n",
       "..         ...         ...         ...         ...         ...         ...   \n",
       "247 2022-11-17  183.960007  186.160004  180.899994  183.169998  183.169998   \n",
       "248 2022-11-18  185.050003  185.190002  176.550003  180.190002  180.190002   \n",
       "249 2022-11-21  175.850006  176.770004  167.539993  167.869995  167.869995   \n",
       "250 2022-11-22  168.630005  170.919998  166.190002  169.910004  169.910004   \n",
       "251 2022-11-23  173.570007  183.619995  172.500000  183.199997  183.199997   \n",
       "\n",
       "        Volume  \n",
       "0     67680600  \n",
       "1     35042700  \n",
       "2     58393500  \n",
       "3     81276000  \n",
       "4     68450400  \n",
       "..         ...  \n",
       "247   64336000  \n",
       "248   75904900  \n",
       "249   92882700  \n",
       "250   78452300  \n",
       "251  109191900  \n",
       "\n",
       "[252 rows x 7 columns]"
      ]
     },
     "execution_count": 552,
     "metadata": {},
     "output_type": "execute_result"
    }
   ],
   "source": [
    "dataset"
   ]
  },
  {
   "cell_type": "markdown",
   "id": "0c8844bd",
   "metadata": {},
   "source": [
    "## Plot the dataset"
   ]
  },
  {
   "cell_type": "code",
   "execution_count": 553,
   "id": "70a2b254",
   "metadata": {},
   "outputs": [
    {
     "data": {
      "image/png": "[encoded data removed]",
      "text/plain": [
       "<Figure size 1600x800 with 1 Axes>"
      ]
     },
     "metadata": {},
     "output_type": "display_data"
    }
   ],
   "source": [
    "plt.figure(figsize=(16, 8))\n",
    "plt.title(\"History of Close Price\")\n",
    "plt.plot(dataset['Date'], dataset['Close'], color='blue')\n",
    "plt.xlabel('Date')\n",
    "plt.ylabel('Close Price')\n",
    "plt.show()"
   ]
  },
  {
   "cell_type": "code",
   "execution_count": 554,
   "id": "360862ac",
   "metadata": {},
   "outputs": [
    {
     "data": {
      "application/vnd.plotly.v1+json": {
       "config": {
        "displayModeBar": false,
        "plotlyServerURL": "https://plot.ly"
       },
       "data": [
        {
         "hovertemplate": "Date=%{x}<br>Close=%{y}<extra></extra>",
         "legendgroup": "",
         "line": {
          "color": "#636efa",
          "dash": "solid"
         },
         "marker": {
          "symbol": "circle"
         },
         "mode": "lines",
         "name": "",
         "orientation": "v",
         "showlegend": false,
         "type": "scatter",
         "x": [
          "2021-11-24T00:00:00",
          "2021-11-26T00:00:00",
          "2021-11-29T00:00:00",
          "2021-11-30T00:00:00",
          "2021-12-01T00:00:00",
          "2021-12-02T00:00:00",
          "2021-12-03T00:00:00",
          "2021-12-06T00:00:00",
          "2021-12-07T00:00:00",
          "2021-12-08T00:00:00",
          "2021-12-09T00:00:00",
          "2021-12-10T00:00:00",
          "2021-12-13T00:00:00",
          "2021-12-14T00:00:00",
          "2021-12-15T00:00:00",
          "2021-12-16T00:00:00",
          "2021-12-17T00:00:00",
          "2021-12-20T00:00:00",
          "2021-12-21T00:00:00",
          "2021-12-22T00:00:00",
          "2021-12-23T00:00:00",
          "2021-12-27T00:00:00",
          "2021-12-28T00:00:00",
          "2021-12-29T00:00:00",
          "2021-12-30T00:00:00",
          "2021-12-31T00:00:00",
          "2022-01-03T00:00:00",
          "2022-01-04T00:00:00",
          "2022-01-05T00:00:00",
          "2022-01-06T00:00:00",
          "2022-01-07T00:00:00",
          "2022-01-10T00:00:00",
          "2022-01-11T00:00:00",
          "2022-01-12T00:00:00",
          "2022-01-13T00:00:00",
          "2022-01-14T00:00:00",
          "2022-01-18T00:00:00",
          "2022-01-19T00:00:00",
          "2022-01-20T00:00:00",
          "2022-01-21T00:00:00",
          "2022-01-24T00:00:00",
          "2022-01-25T00:00:00",
          "2022-01-26T00:00:00",
          "2022-01-27T00:00:00",
          "2022-01-28T00:00:00",
          "2022-01-31T00:00:00",
          "2022-02-01T00:00:00",
          "2022-02-02T00:00:00",
          "2022-02-03T00:00:00",
          "2022-02-04T00:00:00",
          "2022-02-07T00:00:00",
          "2022-02-08T00:00:00",
          "2022-02-09T00:00:00",
          "2022-02-10T00:00:00",
          "2022-02-11T00:00:00",
          "2022-02-14T00:00:00",
          "2022-02-15T00:00:00",
          "2022-02-16T00:00:00",
          "2022-02-17T00:00:00",
          "2022-02-18T00:00:00",
          "2022-02-22T00:00:00",
          "2022-02-23T00:00:00",
          "2022-02-24T00:00:00",
          "2022-02-25T00:00:00",
          "2022-02-28T00:00:00",
          "2022-03-01T00:00:00",
          "2022-03-02T00:00:00",
          "2022-03-03T00:00:00",
          "2022-03-04T00:00:00",
          "2022-03-07T00:00:00",
          "2022-03-08T00:00:00",
          "2022-03-09T00:00:00",
          "2022-03-10T00:00:00",
          "2022-03-11T00:00:00",
          "2022-03-14T00:00:00",
          "2022-03-15T00:00:00",
          "2022-03-16T00:00:00",
          "2022-03-17T00:00:00",
          "2022-03-18T00:00:00",
          "2022-03-21T00:00:00",
          "2022-03-22T00:00:00",
          "2022-03-23T00:00:00",
          "2022-03-24T00:00:00",
          "2022-03-25T00:00:00",
          "2022-03-28T00:00:00",
          "2022-03-29T00:00:00",
          "2022-03-30T00:00:00",
          "2022-03-31T00:00:00",
          "2022-04-01T00:00:00",
          "2022-04-04T00:00:00",
          "2022-04-05T00:00:00",
          "2022-04-06T00:00:00",
          "2022-04-07T00:00:00",
          "2022-04-08T00:00:00",
          "2022-04-11T00:00:00",
          "2022-04-12T00:00:00",
          "2022-04-13T00:00:00",
          "2022-04-14T00:00:00",
          "2022-04-18T00:00:00",
          "2022-04-19T00:00:00",
          "2022-04-20T00:00:00",
          "2022-04-21T00:00:00",
          "2022-04-22T00:00:00",
          "2022-04-25T00:00:00",
          "2022-04-26T00:00:00",
          "2022-04-27T00:00:00",
          "2022-04-28T00:00:00",
          "2022-04-29T00:00:00",
          "2022-05-02T00:00:00",
          "2022-05-03T00:00:00",
          "2022-05-04T00:00:00",
          "2022-05-05T00:00:00",
          "2022-05-06T00:00:00",
          "2022-05-09T00:00:00",
          "2022-05-10T00:00:00",
          "2022-05-11T00:00:00",
          "2022-05-12T00:00:00",
          "2022-05-13T00:00:00",
          "2022-05-16T00:00:00",
          "2022-05-17T00:00:00",
          "2022-05-18T00:00:00",
          "2022-05-19T00:00:00",
          "2022-05-20T00:00:00",
          "2022-05-23T00:00:00",
          "2022-05-24T00:00:00",
          "2022-05-25T00:00:00",
          "2022-05-26T00:00:00",
          "2022-05-27T00:00:00",
          "2022-05-31T00:00:00",
          "2022-06-01T00:00:00",
          "2022-06-02T00:00:00",
          "2022-06-03T00:00:00",
          "2022-06-06T00:00:00",
          "2022-06-07T00:00:00",
          "2022-06-08T00:00:00",
          "2022-06-09T00:00:00",
          "2022-06-10T00:00:00",
          "2022-06-13T00:00:00",
          "2022-06-14T00:00:00",
          "2022-06-15T00:00:00",
          "2022-06-16T00:00:00",
          "2022-06-17T00:00:00",
          "2022-06-21T00:00:00",
          "2022-06-22T00:00:00",
          "2022-06-23T00:00:00",
          "2022-06-24T00:00:00",
          "2022-06-27T00:00:00",
          "2022-06-28T00:00:00",
          "2022-06-29T00:00:00",
          "2022-06-30T00:00:00",
          "2022-07-01T00:00:00",
          "2022-07-05T00:00:00",
          "2022-07-06T00:00:00",
          "2022-07-07T00:00:00",
          "2022-07-08T00:00:00",
          "2022-07-11T00:00:00",
          "2022-07-12T00:00:00",
          "2022-07-13T00:00:00",
          "2022-07-14T00:00:00",
          "2022-07-15T00:00:00",
          "2022-07-18T00:00:00",
          "2022-07-19T00:00:00",
          "2022-07-20T00:00:00",
          "2022-07-21T00:00:00",
          "2022-07-22T00:00:00",
          "2022-07-25T00:00:00",
          "2022-07-26T00:00:00",
          "2022-07-27T00:00:00",
          "2022-07-28T00:00:00",
          "2022-07-29T00:00:00",
          "2022-08-01T00:00:00",
          "2022-08-02T00:00:00",
          "2022-08-03T00:00:00",
          "2022-08-04T00:00:00",
          "2022-08-05T00:00:00",
          "2022-08-08T00:00:00",
          "2022-08-09T00:00:00",
          "2022-08-10T00:00:00",
          "2022-08-11T00:00:00",
          "2022-08-12T00:00:00",
          "2022-08-15T00:00:00",
          "2022-08-16T00:00:00",
          "2022-08-17T00:00:00",
          "2022-08-18T00:00:00",
          "2022-08-19T00:00:00",
          "2022-08-22T00:00:00",
          "2022-08-23T00:00:00",
          "2022-08-24T00:00:00",
          "2022-08-25T00:00:00",
          "2022-08-26T00:00:00",
          "2022-08-29T00:00:00",
          "2022-08-30T00:00:00",
          "2022-08-31T00:00:00",
          "2022-09-01T00:00:00",
          "2022-09-02T00:00:00",
          "2022-09-06T00:00:00",
          "2022-09-07T00:00:00",
          "2022-09-08T00:00:00",
          "2022-09-09T00:00:00",
          "2022-09-12T00:00:00",
          "2022-09-13T00:00:00",
          "2022-09-14T00:00:00",
          "2022-09-15T00:00:00",
          "2022-09-16T00:00:00",
          "2022-09-19T00:00:00",
          "2022-09-20T00:00:00",
          "2022-09-21T00:00:00",
          "2022-09-22T00:00:00",
          "2022-09-23T00:00:00",
          "2022-09-26T00:00:00",
          "2022-09-27T00:00:00",
          "2022-09-28T00:00:00",
          "2022-09-29T00:00:00",
          "2022-09-30T00:00:00",
          "2022-10-03T00:00:00",
          "2022-10-04T00:00:00",
          "2022-10-05T00:00:00",
          "2022-10-06T00:00:00",
          "2022-10-07T00:00:00",
          "2022-10-10T00:00:00",
          "2022-10-11T00:00:00",
          "2022-10-12T00:00:00",
          "2022-10-13T00:00:00",
          "2022-10-14T00:00:00",
          "2022-10-17T00:00:00",
          "2022-10-18T00:00:00",
          "2022-10-19T00:00:00",
          "2022-10-20T00:00:00",
          "2022-10-21T00:00:00",
          "2022-10-24T00:00:00",
          "2022-10-25T00:00:00",
          "2022-10-26T00:00:00",
          "2022-10-27T00:00:00",
          "2022-10-28T00:00:00",
          "2022-10-31T00:00:00",
          "2022-11-01T00:00:00",
          "2022-11-02T00:00:00",
          "2022-11-03T00:00:00",
          "2022-11-04T00:00:00",
          "2022-11-07T00:00:00",
          "2022-11-08T00:00:00",
          "2022-11-09T00:00:00",
          "2022-11-10T00:00:00",
          "2022-11-11T00:00:00",
          "2022-11-14T00:00:00",
          "2022-11-15T00:00:00",
          "2022-11-16T00:00:00",
          "2022-11-17T00:00:00",
          "2022-11-18T00:00:00",
          "2022-11-21T00:00:00",
          "2022-11-22T00:00:00",
          "2022-11-23T00:00:00"
         ],
         "xaxis": "x",
         "y": [
          372,
          360.640015,
          378.996674,
          381.58667,
          365,
          361.533325,
          338.323334,
          336.33667,
          350.583344,
          356.320007,
          334.600006,
          339.01001,
          322.136658,
          319.503326,
          325.329987,
          308.973328,
          310.856659,
          299.980011,
          312.843323,
          336.290009,
          355.666656,
          364.646667,
          362.823334,
          362.063324,
          356.779999,
          352.26001,
          399.926666,
          383.196655,
          362.706665,
          354.899994,
          342.320007,
          352.706665,
          354.799988,
          368.73999,
          343.853333,
          349.869995,
          343.503326,
          331.883331,
          332.089996,
          314.633331,
          310,
          306.133331,
          312.470001,
          276.366669,
          282.116669,
          312.23999,
          310.416656,
          301.886658,
          297.046661,
          307.773346,
          302.446655,
          307.333344,
          310.666656,
          301.516663,
          286.666656,
          291.920013,
          307.476654,
          307.796661,
          292.116669,
          285.660004,
          273.843323,
          254.679993,
          266.92334,
          269.956665,
          290.143341,
          288.123322,
          293.296661,
          279.763336,
          279.429993,
          268.193329,
          274.799988,
          286.323334,
          279.433319,
          265.116669,
          255.456665,
          267.296661,
          280.07666,
          290.533325,
          301.796661,
          307.053345,
          331.32666,
          333.036682,
          337.973328,
          336.880005,
          363.946655,
          366.523346,
          364.66333,
          359.200012,
          361.529999,
          381.816681,
          363.753326,
          348.58667,
          352.420013,
          341.829987,
          325.309998,
          328.983337,
          340.790009,
          328.333344,
          334.763336,
          342.716675,
          325.733337,
          336.26001,
          335.016663,
          332.67334,
          292.140015,
          293.83667,
          292.503326,
          290.253326,
          300.980011,
          303.083344,
          317.540009,
          291.093323,
          288.549988,
          262.369995,
          266.679993,
          244.666672,
          242.666672,
          256.529999,
          241.456665,
          253.869995,
          236.603333,
          236.473328,
          221.300003,
          224.96666,
          209.386673,
          219.600006,
          235.910004,
          253.210007,
          252.753326,
          246.789993,
          258.333344,
          234.516663,
          238.279999,
          238.886673,
          241.866669,
          239.706665,
          232.229996,
          215.736664,
          220.889999,
          233,
          213.100006,
          216.759995,
          237.036667,
          236.08667,
          235.070007,
          245.706665,
          244.919998,
          232.66333,
          228.490005,
          224.473328,
          227.263336,
          233.066666,
          231.733337,
          244.543335,
          250.763336,
          234.343338,
          233.070007,
          237.039993,
          238.313339,
          240.066666,
          240.546661,
          245.529999,
          247.5,
          271.706665,
          272.243347,
          268.433319,
          258.859985,
          274.820007,
          280.899994,
          297.149994,
          297.276672,
          300.58667,
          307.396667,
          308.633331,
          288.170013,
          290.42334,
          283.333344,
          294.356659,
          286.630005,
          300.029999,
          309.320007,
          306.563324,
          303.996674,
          302.869995,
          296.666656,
          289.91333,
          296.453339,
          297.09668,
          296.070007,
          288.089996,
          284.820007,
          277.700012,
          275.609985,
          277.160004,
          270.209991,
          274.420013,
          283.700012,
          289.26001,
          299.679993,
          304.420013,
          292.130005,
          302.609985,
          303.75,
          303.350006,
          309.070007,
          308.730011,
          300.799988,
          288.589996,
          275.329987,
          276.01001,
          282.940002,
          287.809998,
          268.209991,
          265.25,
          242.399994,
          249.440002,
          240.809998,
          238.130005,
          223.070007,
          222.960007,
          216.5,
          217.240005,
          221.720001,
          204.990005,
          219.350006,
          220.190002,
          222.039993,
          207.279999,
          214.440002,
          211.25,
          222.419998,
          224.639999,
          225.089996,
          228.520004,
          227.539993,
          227.820007,
          214.979996,
          215.309998,
          207.470001,
          197.080002,
          191.300003,
          177.589996,
          190.720001,
          195.970001,
          190.949997,
          194.419998,
          186.919998,
          183.169998,
          180.190002,
          167.869995,
          169.910004,
          183.199997
         ],
         "yaxis": "y"
        }
       ],
       "layout": {
        "autosize": false,
        "height": 800,
        "legend": {
         "tracegroupgap": 0
        },
        "template": {
         "data": {
          "bar": [
           {
            "error_x": {
             "color": "#2a3f5f"
            },
            "error_y": {
             "color": "#2a3f5f"
            },
            "marker": {
             "line": {
              "color": "#E5ECF6",
              "width": 0.5
             },
             "pattern": {
              "fillmode": "overlay",
              "size": 10,
              "solidity": 0.2
             }
            },
            "type": "bar"
           }
          ],
          "barpolar": [
           {
            "marker": {
             "line": {
              "color": "#E5ECF6",
              "width": 0.5
             },
             "pattern": {
              "fillmode": "overlay",
              "size": 10,
              "solidity": 0.2
             }
            },
            "type": "barpolar"
           }
          ],
          "carpet": [
           {
            "aaxis": {
             "endlinecolor": "#2a3f5f",
             "gridcolor": "white",
             "linecolor": "white",
             "minorgridcolor": "white",
             "startlinecolor": "#2a3f5f"
            },
            "baxis": {
             "endlinecolor": "#2a3f5f",
             "gridcolor": "white",
             "linecolor": "white",
             "minorgridcolor": "white",
             "startlinecolor": "#2a3f5f"
            },
            "type": "carpet"
           }
          ],
          "choropleth": [
           {
            "colorbar": {
             "outlinewidth": 0,
             "ticks": ""
            },
            "type": "choropleth"
           }
          ],
          "contour": [
           {
            "colorbar": {
             "outlinewidth": 0,
             "ticks": ""
            },
            "colorscale": [
             [
              0,
              "#0d0887"
             ],
             [
              0.1111111111111111,
              "#46039f"
             ],
             [
              0.2222222222222222,
              "#7201a8"
             ],
             [
              0.3333333333333333,
              "#9c179e"
             ],
             [
              0.4444444444444444,
              "#bd3786"
             ],
             [
              0.5555555555555556,
              "#d8576b"
             ],
             [
              0.6666666666666666,
              "#ed7953"
             ],
             [
              0.7777777777777778,
              "#fb9f3a"
             ],
             [
              0.8888888888888888,
              "#fdca26"
             ],
             [
              1,
              "#f0f921"
             ]
            ],
            "type": "contour"
           }
          ],
          "contourcarpet": [
           {
            "colorbar": {
             "outlinewidth": 0,
             "ticks": ""
            },
            "type": "contourcarpet"
           }
          ],
          "heatmap": [
           {
            "colorbar": {
             "outlinewidth": 0,
             "ticks": ""
            },
            "colorscale": [
             [
              0,
              "#0d0887"
             ],
             [
              0.1111111111111111,
              "#46039f"
             ],
             [
              0.2222222222222222,
              "#7201a8"
             ],
             [
              0.3333333333333333,
              "#9c179e"
             ],
             [
              0.4444444444444444,
              "#bd3786"
             ],
             [
              0.5555555555555556,
              "#d8576b"
             ],
             [
              0.6666666666666666,
              "#ed7953"
             ],
             [
              0.7777777777777778,
              "#fb9f3a"
             ],
             [
              0.8888888888888888,
              "#fdca26"
             ],
             [
              1,
              "#f0f921"
             ]
            ],
            "type": "heatmap"
           }
          ],
          "heatmapgl": [
           {
            "colorbar": {
             "outlinewidth": 0,
             "ticks": ""
            },
            "colorscale": [
             [
              0,
              "#0d0887"
             ],
             [
              0.1111111111111111,
              "#46039f"
             ],
             [
              0.2222222222222222,
              "#7201a8"
             ],
             [
              0.3333333333333333,
              "#9c179e"
             ],
             [
              0.4444444444444444,
              "#bd3786"
             ],
             [
              0.5555555555555556,
              "#d8576b"
             ],
             [
              0.6666666666666666,
              "#ed7953"
             ],
             [
              0.7777777777777778,
              "#fb9f3a"
             ],
             [
              0.8888888888888888,
              "#fdca26"
             ],
             [
              1,
              "#f0f921"
             ]
            ],
            "type": "heatmapgl"
           }
          ],
          "histogram": [
           {
            "marker": {
             "pattern": {
              "fillmode": "overlay",
              "size": 10,
              "solidity": 0.2
             }
            },
            "type": "histogram"
           }
          ],
          "histogram2d": [
           {
            "colorbar": {
             "outlinewidth": 0,
             "ticks": ""
            },
            "colorscale": [
             [
              0,
              "#0d0887"
             ],
             [
              0.1111111111111111,
              "#46039f"
             ],
             [
              0.2222222222222222,
              "#7201a8"
             ],
             [
              0.3333333333333333,
              "#9c179e"
             ],
             [
              0.4444444444444444,
              "#bd3786"
             ],
             [
              0.5555555555555556,
              "#d8576b"
             ],
             [
              0.6666666666666666,
              "#ed7953"
             ],
             [
              0.7777777777777778,
              "#fb9f3a"
             ],
             [
              0.8888888888888888,
              "#fdca26"
             ],
             [
              1,
              "#f0f921"
             ]
            ],
            "type": "histogram2d"
           }
          ],
          "histogram2dcontour": [
           {
            "colorbar": {
             "outlinewidth": 0,
             "ticks": ""
            },
            "colorscale": [
             [
              0,
              "#0d0887"
             ],
             [
              0.1111111111111111,
              "#46039f"
             ],
             [
              0.2222222222222222,
              "#7201a8"
             ],
             [
              0.3333333333333333,
              "#9c179e"
             ],
             [
              0.4444444444444444,
              "#bd3786"
             ],
             [
              0.5555555555555556,
              "#d8576b"
             ],
             [
              0.6666666666666666,
              "#ed7953"
             ],
             [
              0.7777777777777778,
              "#fb9f3a"
             ],
             [
              0.8888888888888888,
              "#fdca26"
             ],
             [
              1,
              "#f0f921"
             ]
            ],
            "type": "histogram2dcontour"
           }
          ],
          "mesh3d": [
           {
            "colorbar": {
             "outlinewidth": 0,
             "ticks": ""
            },
            "type": "mesh3d"
           }
          ],
          "parcoords": [
           {
            "line": {
             "colorbar": {
              "outlinewidth": 0,
              "ticks": ""
             }
            },
            "type": "parcoords"
           }
          ],
          "pie": [
           {
            "automargin": true,
            "type": "pie"
           }
          ],
          "scatter": [
           {
            "fillpattern": {
             "fillmode": "overlay",
             "size": 10,
             "solidity": 0.2
            },
            "type": "scatter"
           }
          ],
          "scatter3d": [
           {
            "line": {
             "colorbar": {
              "outlinewidth": 0,
              "ticks": ""
             }
            },
            "marker": {
             "colorbar": {
              "outlinewidth": 0,
              "ticks": ""
             }
            },
            "type": "scatter3d"
           }
          ],
          "scattercarpet": [
           {
            "marker": {
             "colorbar": {
              "outlinewidth": 0,
              "ticks": ""
             }
            },
            "type": "scattercarpet"
           }
          ],
          "scattergeo": [
           {
            "marker": {
             "colorbar": {
              "outlinewidth": 0,
              "ticks": ""
             }
            },
            "type": "scattergeo"
           }
          ],
          "scattergl": [
           {
            "marker": {
             "colorbar": {
              "outlinewidth": 0,
              "ticks": ""
             }
            },
            "type": "scattergl"
           }
          ],
          "scattermapbox": [
           {
            "marker": {
             "colorbar": {
              "outlinewidth": 0,
              "ticks": ""
             }
            },
            "type": "scattermapbox"
           }
          ],
          "scatterpolar": [
           {
            "marker": {
             "colorbar": {
              "outlinewidth": 0,
              "ticks": ""
             }
            },
            "type": "scatterpolar"
           }
          ],
          "scatterpolargl": [
           {
            "marker": {
             "colorbar": {
              "outlinewidth": 0,
              "ticks": ""
             }
            },
            "type": "scatterpolargl"
           }
          ],
          "scatterternary": [
           {
            "marker": {
             "colorbar": {
              "outlinewidth": 0,
              "ticks": ""
             }
            },
            "type": "scatterternary"
           }
          ],
          "surface": [
           {
            "colorbar": {
             "outlinewidth": 0,
             "ticks": ""
            },
            "colorscale": [
             [
              0,
              "#0d0887"
             ],
             [
              0.1111111111111111,
              "#46039f"
             ],
             [
              0.2222222222222222,
              "#7201a8"
             ],
             [
              0.3333333333333333,
              "#9c179e"
             ],
             [
              0.4444444444444444,
              "#bd3786"
             ],
             [
              0.5555555555555556,
              "#d8576b"
             ],
             [
              0.6666666666666666,
              "#ed7953"
             ],
             [
              0.7777777777777778,
              "#fb9f3a"
             ],
             [
              0.8888888888888888,
              "#fdca26"
             ],
             [
              1,
              "#f0f921"
             ]
            ],
            "type": "surface"
           }
          ],
          "table": [
           {
            "cells": {
             "fill": {
              "color": "#EBF0F8"
             },
             "line": {
              "color": "white"
             }
            },
            "header": {
             "fill": {
              "color": "#C8D4E3"
             },
             "line": {
              "color": "white"
             }
            },
            "type": "table"
           }
          ]
         },
         "layout": {
          "annotationdefaults": {
           "arrowcolor": "#2a3f5f",
           "arrowhead": 0,
           "arrowwidth": 1
          },
          "autotypenumbers": "strict",
          "coloraxis": {
           "colorbar": {
            "outlinewidth": 0,
            "ticks": ""
           }
          },
          "colorscale": {
           "diverging": [
            [
             0,
             "#8e0152"
            ],
            [
             0.1,
             "#c51b7d"
            ],
            [
             0.2,
             "#de77ae"
            ],
            [
             0.3,
             "#f1b6da"
            ],
            [
             0.4,
             "#fde0ef"
            ],
            [
             0.5,
             "#f7f7f7"
            ],
            [
             0.6,
             "#e6f5d0"
            ],
            [
             0.7,
             "#b8e186"
            ],
            [
             0.8,
             "#7fbc41"
            ],
            [
             0.9,
             "#4d9221"
            ],
            [
             1,
             "#276419"
            ]
           ],
           "sequential": [
            [
             0,
             "#0d0887"
            ],
            [
             0.1111111111111111,
             "#46039f"
            ],
            [
             0.2222222222222222,
             "#7201a8"
            ],
            [
             0.3333333333333333,
             "#9c179e"
            ],
            [
             0.4444444444444444,
             "#bd3786"
            ],
            [
             0.5555555555555556,
             "#d8576b"
            ],
            [
             0.6666666666666666,
             "#ed7953"
            ],
            [
             0.7777777777777778,
             "#fb9f3a"
            ],
            [
             0.8888888888888888,
             "#fdca26"
            ],
            [
             1,
             "#f0f921"
            ]
           ],
           "sequentialminus": [
            [
             0,
             "#0d0887"
            ],
            [
             0.1111111111111111,
             "#46039f"
            ],
            [
             0.2222222222222222,
             "#7201a8"
            ],
            [
             0.3333333333333333,
             "#9c179e"
            ],
            [
             0.4444444444444444,
             "#bd3786"
            ],
            [
             0.5555555555555556,
             "#d8576b"
            ],
            [
             0.6666666666666666,
             "#ed7953"
            ],
            [
             0.7777777777777778,
             "#fb9f3a"
            ],
            [
             0.8888888888888888,
             "#fdca26"
            ],
            [
             1,
             "#f0f921"
            ]
           ]
          },
          "colorway": [
           "#636efa",
           "#EF553B",
           "#00cc96",
           "#ab63fa",
           "#FFA15A",
           "#19d3f3",
           "#FF6692",
           "#B6E880",
           "#FF97FF",
           "#FECB52"
          ],
          "font": {
           "color": "#2a3f5f"
          },
          "geo": {
           "bgcolor": "white",
           "lakecolor": "white",
           "landcolor": "#E5ECF6",
           "showlakes": true,
           "showland": true,
           "subunitcolor": "white"
          },
          "hoverlabel": {
           "align": "left"
          },
          "hovermode": "closest",
          "mapbox": {
           "style": "light"
          },
          "paper_bgcolor": "white",
          "plot_bgcolor": "#E5ECF6",
          "polar": {
           "angularaxis": {
            "gridcolor": "white",
            "linecolor": "white",
            "ticks": ""
           },
           "bgcolor": "#E5ECF6",
           "radialaxis": {
            "gridcolor": "white",
            "linecolor": "white",
            "ticks": ""
           }
          },
          "scene": {
           "xaxis": {
            "backgroundcolor": "#E5ECF6",
            "gridcolor": "white",
            "gridwidth": 2,
            "linecolor": "white",
            "showbackground": true,
            "ticks": "",
            "zerolinecolor": "white"
           },
           "yaxis": {
            "backgroundcolor": "#E5ECF6",
            "gridcolor": "white",
            "gridwidth": 2,
            "linecolor": "white",
            "showbackground": true,
            "ticks": "",
            "zerolinecolor": "white"
           },
           "zaxis": {
            "backgroundcolor": "#E5ECF6",
            "gridcolor": "white",
            "gridwidth": 2,
            "linecolor": "white",
            "showbackground": true,
            "ticks": "",
            "zerolinecolor": "white"
           }
          },
          "shapedefaults": {
           "line": {
            "color": "#2a3f5f"
           }
          },
          "ternary": {
           "aaxis": {
            "gridcolor": "white",
            "linecolor": "white",
            "ticks": ""
           },
           "baxis": {
            "gridcolor": "white",
            "linecolor": "white",
            "ticks": ""
           },
           "bgcolor": "#E5ECF6",
           "caxis": {
            "gridcolor": "white",
            "linecolor": "white",
            "ticks": ""
           }
          },
          "title": {
           "x": 0.05
          },
          "xaxis": {
           "automargin": true,
           "gridcolor": "white",
           "linecolor": "white",
           "ticks": "",
           "title": {
            "standoff": 15
           },
           "zerolinecolor": "white",
           "zerolinewidth": 2
          },
          "yaxis": {
           "automargin": true,
           "gridcolor": "white",
           "linecolor": "white",
           "ticks": "",
           "title": {
            "standoff": 15
           },
           "zerolinecolor": "white",
           "zerolinewidth": 2
          }
         }
        },
        "title": {
         "text": "History of Close Price"
        },
        "width": 1400,
        "xaxis": {
         "anchor": "y",
         "domain": [
          0,
          1
         ],
         "title": {
          "text": "Date"
         }
        },
        "yaxis": {
         "anchor": "x",
         "domain": [
          0,
          1
         ],
         "title": {
          "text": "Close"
         }
        }
       }
      }
     },
     "metadata": {},
     "output_type": "display_data"
    }
   ],
   "source": [
    "fig = px.line(dataset, x=\"Date\", y=\"Close\", title=\"History of Close Price\") \n",
    "fig.update_layout(\n",
    "    autosize=False,\n",
    "    width=1400,\n",
    "    height=800,)\n",
    "fig.show(config={'displayModeBar': False})    \n"
   ]
  },
  {
   "cell_type": "code",
   "execution_count": 555,
   "id": "6449483d",
   "metadata": {},
   "outputs": [
    {
     "data": {
      "text/plain": [
       "['Date', 'Open', 'High', 'Low', 'Close', 'Adj Close', 'Volume']"
      ]
     },
     "execution_count": 555,
     "metadata": {},
     "output_type": "execute_result"
    }
   ],
   "source": [
    "dataset.columns.to_list()"
   ]
  },
  {
   "cell_type": "markdown",
   "id": "335016a1",
   "metadata": {},
   "source": [
    "## Splitting dataset into dependent and independent data"
   ]
  },
  {
   "cell_type": "code",
   "execution_count": 556,
   "id": "765bee13",
   "metadata": {},
   "outputs": [],
   "source": [
    "# X = dataset.loc[: , ~dataset.columns.isin(['Date', 'Close', 'Adj Close'])].values\n",
    "# X"
   ]
  },
  {
   "cell_type": "code",
   "execution_count": 557,
   "id": "211cfcc9",
   "metadata": {},
   "outputs": [],
   "source": [
    "# y = dataset.loc[:, dataset.columns == 'Close'].values\n",
    "# y"
   ]
  },
  {
   "cell_type": "markdown",
   "id": "1d306970",
   "metadata": {},
   "source": [
    "## Splitting data into training set and test set"
   ]
  },
  {
   "cell_type": "code",
   "execution_count": 558,
   "id": "e0cad0ee",
   "metadata": {},
   "outputs": [],
   "source": [
    "X_train = dataset[0:201]\n",
    "y_train = X_train['Close'].values\n",
    "X_test = dataset[201:]\n",
    "y_test = X_test['Close'].values\n",
    "X_train = X_train.loc[:, ~dataset.columns.isin(['Close', 'Adj Close', 'Date'])]\n",
    "X_train = X_train.values\n",
    "X_test = X_test.loc[:, ~dataset.columns.isin(['Close', 'Adj Close', 'Date'])]\n",
    "X_test = X_test.values"
   ]
  },
  {
   "cell_type": "markdown",
   "id": "f835ade7",
   "metadata": {},
   "source": [
    "## Trainning model upon train data"
   ]
  },
  {
   "cell_type": "code",
   "execution_count": 559,
   "id": "0c7e6636",
   "metadata": {},
   "outputs": [
    {
     "data": {
      "text/html": [
       "<style>#sk-container-id-22 {color: black;background-color: white;}#sk-container-id-22 pre{padding: 0;}#sk-container-id-22 div.sk-toggleable {background-color: white;}#sk-container-id-22 label.sk-toggleable__label {cursor: pointer;display: block;width: 100%;margin-bottom: 0;padding: 0.3em;box-sizing: border-box;text-align: center;}#sk-container-id-22 label.sk-toggleable__label-arrow:before {content: \"▸\";float: left;margin-right: 0.25em;color: #696969;}#sk-container-id-22 label.sk-toggleable__label-arrow:hover:before {color: black;}#sk-container-id-22 div.sk-estimator:hover label.sk-toggleable__label-arrow:before {color: black;}#sk-container-id-22 div.sk-toggleable__content {max-height: 0;max-width: 0;overflow: hidden;text-align: left;background-color: #f0f8ff;}#sk-container-id-22 div.sk-toggleable__content pre {margin: 0.2em;color: black;border-radius: 0.25em;background-color: #f0f8ff;}#sk-container-id-22 input.sk-toggleable__control:checked~div.sk-toggleable__content {max-height: 200px;max-width: 100%;overflow: auto;}#sk-container-id-22 input.sk-toggleable__control:checked~label.sk-toggleable__label-arrow:before {content: \"▾\";}#sk-container-id-22 div.sk-estimator input.sk-toggleable__control:checked~label.sk-toggleable__label {background-color: #d4ebff;}#sk-container-id-22 div.sk-label input.sk-toggleable__control:checked~label.sk-toggleable__label {background-color: #d4ebff;}#sk-container-id-22 input.sk-hidden--visually {border: 0;clip: rect(1px 1px 1px 1px);clip: rect(1px, 1px, 1px, 1px);height: 1px;margin: -1px;overflow: hidden;padding: 0;position: absolute;width: 1px;}#sk-container-id-22 div.sk-estimator {font-family: monospace;background-color: #f0f8ff;border: 1px dotted black;border-radius: 0.25em;box-sizing: border-box;margin-bottom: 0.5em;}#sk-container-id-22 div.sk-estimator:hover {background-color: #d4ebff;}#sk-container-id-22 div.sk-parallel-item::after {content: \"\";width: 100%;border-bottom: 1px solid gray;flex-grow: 1;}#sk-container-id-22 div.sk-label:hover label.sk-toggleable__label {background-color: #d4ebff;}#sk-container-id-22 div.sk-serial::before {content: \"\";position: absolute;border-left: 1px solid gray;box-sizing: border-box;top: 0;bottom: 0;left: 50%;z-index: 0;}#sk-container-id-22 div.sk-serial {display: flex;flex-direction: column;align-items: center;background-color: white;padding-right: 0.2em;padding-left: 0.2em;position: relative;}#sk-container-id-22 div.sk-item {position: relative;z-index: 1;}#sk-container-id-22 div.sk-parallel {display: flex;align-items: stretch;justify-content: center;background-color: white;position: relative;}#sk-container-id-22 div.sk-item::before, #sk-container-id-22 div.sk-parallel-item::before {content: \"\";position: absolute;border-left: 1px solid gray;box-sizing: border-box;top: 0;bottom: 0;left: 50%;z-index: -1;}#sk-container-id-22 div.sk-parallel-item {display: flex;flex-direction: column;z-index: 1;position: relative;background-color: white;}#sk-container-id-22 div.sk-parallel-item:first-child::after {align-self: flex-end;width: 50%;}#sk-container-id-22 div.sk-parallel-item:last-child::after {align-self: flex-start;width: 50%;}#sk-container-id-22 div.sk-parallel-item:only-child::after {width: 0;}#sk-container-id-22 div.sk-dashed-wrapped {border: 1px dashed gray;margin: 0 0.4em 0.5em 0.4em;box-sizing: border-box;padding-bottom: 0.4em;background-color: white;}#sk-container-id-22 div.sk-label label {font-family: monospace;font-weight: bold;display: inline-block;line-height: 1.2em;}#sk-container-id-22 div.sk-label-container {text-align: center;}#sk-container-id-22 div.sk-container {/* jupyter's `normalize.less` sets `[hidden] { display: none; }` but bootstrap.min.css set `[hidden] { display: none !important; }` so we also need the `!important` here to be able to override the default hidden behavior on the sphinx rendered scikit-learn.org. See: https://github.com/scikit-learn/scikit-learn/issues/21755 */display: inline-block !important;position: relative;}#sk-container-id-22 div.sk-text-repr-fallback {display: none;}</style><div id=\"sk-container-id-22\" class=\"sk-top-container\"><div class=\"sk-text-repr-fallback\"><pre>LinearRegression()</pre><b>In a Jupyter environment, please rerun this cell to show the HTML representation or trust the notebook. <br />On GitHub, the HTML representation is unable to render, please try loading this page with nbviewer.org.</b></div><div class=\"sk-container\" hidden><div class=\"sk-item\"><div class=\"sk-estimator sk-toggleable\"><input class=\"sk-toggleable__control sk-hidden--visually\" id=\"sk-estimator-id-22\" type=\"checkbox\" checked><label for=\"sk-estimator-id-22\" class=\"sk-toggleable__label sk-toggleable__label-arrow\">LinearRegression</label><div class=\"sk-toggleable__content\"><pre>LinearRegression()</pre></div></div></div></div></div>"
      ],
      "text/plain": [
       "LinearRegression()"
      ]
     },
     "execution_count": 559,
     "metadata": {},
     "output_type": "execute_result"
    }
   ],
   "source": [
    "from sklearn.linear_model import LinearRegression\n",
    "regressor = LinearRegression()\n",
    "regressor.fit(X_train,y_train)"
   ]
  },
  {
   "cell_type": "code",
   "execution_count": 560,
   "id": "0b3c33df",
   "metadata": {},
   "outputs": [
    {
     "data": {
      "text/plain": [
       "array([372.      , 360.640015, 378.996674, 381.58667 , 365.      ,\n",
       "       361.533325, 338.323334, 336.33667 , 350.583344, 356.320007,\n",
       "       334.600006, 339.01001 , 322.136658, 319.503326, 325.329987,\n",
       "       308.973328, 310.856659, 299.980011, 312.843323, 336.290009,\n",
       "       355.666656, 364.646667, 362.823334, 362.063324, 356.779999,\n",
       "       352.26001 , 399.926666, 383.196655, 362.706665, 354.899994,\n",
       "       342.320007, 352.706665, 354.799988, 368.73999 , 343.853333,\n",
       "       349.869995, 343.503326, 331.883331, 332.089996, 314.633331,\n",
       "       310.      , 306.133331, 312.470001, 276.366669, 282.116669,\n",
       "       312.23999 , 310.416656, 301.886658, 297.046661, 307.773346,\n",
       "       302.446655, 307.333344, 310.666656, 301.516663, 286.666656,\n",
       "       291.920013, 307.476654, 307.796661, 292.116669, 285.660004,\n",
       "       273.843323, 254.679993, 266.92334 , 269.956665, 290.143341,\n",
       "       288.123322, 293.296661, 279.763336, 279.429993, 268.193329,\n",
       "       274.799988, 286.323334, 279.433319, 265.116669, 255.456665,\n",
       "       267.296661, 280.07666 , 290.533325, 301.796661, 307.053345,\n",
       "       331.32666 , 333.036682, 337.973328, 336.880005, 363.946655,\n",
       "       366.523346, 364.66333 , 359.200012, 361.529999, 381.816681,\n",
       "       363.753326, 348.58667 , 352.420013, 341.829987, 325.309998,\n",
       "       328.983337, 340.790009, 328.333344, 334.763336, 342.716675,\n",
       "       325.733337, 336.26001 , 335.016663, 332.67334 , 292.140015,\n",
       "       293.83667 , 292.503326, 290.253326, 300.980011, 303.083344,\n",
       "       317.540009, 291.093323, 288.549988, 262.369995, 266.679993,\n",
       "       244.666672, 242.666672, 256.529999, 241.456665, 253.869995,\n",
       "       236.603333, 236.473328, 221.300003, 224.96666 , 209.386673,\n",
       "       219.600006, 235.910004, 253.210007, 252.753326, 246.789993,\n",
       "       258.333344, 234.516663, 238.279999, 238.886673, 241.866669,\n",
       "       239.706665, 232.229996, 215.736664, 220.889999, 233.      ,\n",
       "       213.100006, 216.759995, 237.036667, 236.08667 , 235.070007,\n",
       "       245.706665, 244.919998, 232.66333 , 228.490005, 224.473328,\n",
       "       227.263336, 233.066666, 231.733337, 244.543335, 250.763336,\n",
       "       234.343338, 233.070007, 237.039993, 238.313339, 240.066666,\n",
       "       240.546661, 245.529999, 247.5     , 271.706665, 272.243347,\n",
       "       268.433319, 258.859985, 274.820007, 280.899994, 297.149994,\n",
       "       297.276672, 300.58667 , 307.396667, 308.633331, 288.170013,\n",
       "       290.42334 , 283.333344, 294.356659, 286.630005, 300.029999,\n",
       "       309.320007, 306.563324, 303.996674, 302.869995, 296.666656,\n",
       "       289.91333 , 296.453339, 297.09668 , 296.070007, 288.089996,\n",
       "       284.820007, 277.700012, 275.609985, 277.160004, 270.209991,\n",
       "       274.420013, 283.700012, 289.26001 , 299.679993, 304.420013,\n",
       "       292.130005])"
      ]
     },
     "execution_count": 560,
     "metadata": {},
     "output_type": "execute_result"
    }
   ],
   "source": [
    "y_train"
   ]
  },
  {
   "cell_type": "code",
   "execution_count": 561,
   "id": "5e7edd3b",
   "metadata": {},
   "outputs": [
    {
     "data": {
      "text/plain": [
       "array([303.52313804, 307.41577301, 300.36974127, 306.50143048,\n",
       "       311.55886987, 306.53685037, 289.26448449, 275.80466478,\n",
       "       280.93643412, 282.77681132, 283.51945011, 269.21722933,\n",
       "       271.20757466, 244.24051425, 249.89541644, 236.97700455,\n",
       "       240.80900119, 224.90730612, 222.32998022, 220.51209789,\n",
       "       216.0231789 , 219.38056512, 209.28159211, 220.02488317,\n",
       "       219.82425673, 221.43624208, 210.07070315, 211.70371732,\n",
       "       206.85028945, 222.67804484, 228.40600848, 227.63650498,\n",
       "       221.00104544, 226.16176607, 231.51280927, 218.31724013,\n",
       "       218.90094467, 207.39870199, 199.43051514, 190.27598214,\n",
       "       184.3796987 , 183.81407898, 192.9304699 , 190.69707729,\n",
       "       197.70244291, 188.11139246, 183.95423443, 178.67746376,\n",
       "       170.50972061, 169.46889763, 182.18542857])"
      ]
     },
     "execution_count": 561,
     "metadata": {},
     "output_type": "execute_result"
    }
   ],
   "source": [
    "pred = regressor.predict(X_test)\n",
    "pred"
   ]
  },
  {
   "cell_type": "code",
   "execution_count": 562,
   "id": "e3bfce53",
   "metadata": {},
   "outputs": [
    {
     "data": {
      "text/plain": [
       "0.9937695552094155"
      ]
     },
     "execution_count": 562,
     "metadata": {},
     "output_type": "execute_result"
    }
   ],
   "source": [
    "from sklearn.metrics import r2_score\n",
    "r2_score(y_test, pred)"
   ]
  },
  {
   "cell_type": "code",
   "execution_count": 563,
   "id": "3ce9cff9",
   "metadata": {},
   "outputs": [
    {
     "name": "stdout",
     "output_type": "stream",
     "text": [
      "[[303.52313804 302.609985  ]\n",
      " [307.41577301 303.75      ]\n",
      " [300.36974127 303.350006  ]\n",
      " [306.50143048 309.070007  ]\n",
      " [311.55886987 308.730011  ]\n",
      " [306.53685037 300.799988  ]\n",
      " [289.26448449 288.589996  ]\n",
      " [275.80466478 275.329987  ]\n",
      " [280.93643412 276.01001   ]\n",
      " [282.77681132 282.940002  ]\n",
      " [283.51945011 287.809998  ]\n",
      " [269.21722933 268.209991  ]\n",
      " [271.20757466 265.25      ]\n",
      " [244.24051425 242.399994  ]\n",
      " [249.89541644 249.440002  ]\n",
      " [236.97700455 240.809998  ]\n",
      " [240.80900119 238.130005  ]\n",
      " [224.90730612 223.070007  ]\n",
      " [222.32998022 222.960007  ]\n",
      " [220.51209789 216.5       ]\n",
      " [216.0231789  217.240005  ]\n",
      " [219.38056512 221.720001  ]\n",
      " [209.28159211 204.990005  ]\n",
      " [220.02488317 219.350006  ]\n",
      " [219.82425673 220.190002  ]\n",
      " [221.43624208 222.039993  ]\n",
      " [210.07070315 207.279999  ]\n",
      " [211.70371732 214.440002  ]\n",
      " [206.85028945 211.25      ]\n",
      " [222.67804484 222.419998  ]\n",
      " [228.40600848 224.639999  ]\n",
      " [227.63650498 225.089996  ]\n",
      " [221.00104544 228.520004  ]\n",
      " [226.16176607 227.539993  ]\n",
      " [231.51280927 227.820007  ]\n",
      " [218.31724013 214.979996  ]\n",
      " [218.90094467 215.309998  ]\n",
      " [207.39870199 207.470001  ]\n",
      " [199.43051514 197.080002  ]\n",
      " [190.27598214 191.300003  ]\n",
      " [184.3796987  177.589996  ]\n",
      " [183.81407898 190.720001  ]\n",
      " [192.9304699  195.970001  ]\n",
      " [190.69707729 190.949997  ]\n",
      " [197.70244291 194.419998  ]\n",
      " [188.11139246 186.919998  ]\n",
      " [183.95423443 183.169998  ]\n",
      " [178.67746376 180.190002  ]\n",
      " [170.50972061 167.869995  ]\n",
      " [169.46889763 169.910004  ]\n",
      " [182.18542857 183.199997  ]]\n"
     ]
    }
   ],
   "source": [
    "print(np.concatenate((pred.reshape(len(pred), 1), y_test.reshape(len(y_test), 1)), 1))"
   ]
  },
  {
   "cell_type": "markdown",
   "id": "1999273c",
   "metadata": {},
   "source": [
    "## Plot the predicted data"
   ]
  },
  {
   "cell_type": "code",
   "execution_count": 564,
   "id": "485300b5",
   "metadata": {},
   "outputs": [
    {
     "name": "stderr",
     "output_type": "stream",
     "text": [
      "C:\\Users\\suman\\AppData\\Local\\Temp\\ipykernel_23224\\2661190437.py:3: SettingWithCopyWarning:\n",
      "\n",
      "\n",
      "A value is trying to be set on a copy of a slice from a DataFrame.\n",
      "Try using .loc[row_indexer,col_indexer] = value instead\n",
      "\n",
      "See the caveats in the documentation: https://pandas.pydata.org/pandas-docs/stable/user_guide/indexing.html#returning-a-view-versus-a-copy\n",
      "\n"
     ]
    },
    {
     "data": {
      "text/plain": [
       "<matplotlib.legend.Legend at 0x20ff188f9d0>"
      ]
     },
     "execution_count": 564,
     "metadata": {},
     "output_type": "execute_result"
    },
    {
     "data": {
      "image/png": "[encoded data removed]",
      "text/plain": [
       "<Figure size 1600x800 with 1 Axes>"
      ]
     },
     "metadata": {},
     "output_type": "display_data"
    }
   ],
   "source": [
    "train = dataset[0:201]\n",
    "valid = dataset[201:]\n",
    "valid['Predictions'] = pred\n",
    "plt.figure(figsize=(16,8))\n",
    "plt.title('Model')\n",
    "plt.xlabel('Date', fontsize=18)\n",
    "plt.ylabel('Close Price' ,fontsize=18)\n",
    "plt.plot(train['Date'], train['Close'],linewidth=3.5)\n",
    "plt.plot(valid['Date'], valid[['Close','Predictions']],linewidth=3.5)\n",
    "plt.legend(['Train','Valid','Predictions'], loc='upper right')"
   ]
  },
  {
   "cell_type": "code",
   "execution_count": 566,
   "id": "6b0c192a",
   "metadata": {},
   "outputs": [
    {
     "data": {
      "text/html": [
       "<div>\n",
       "<style scoped>\n",
       "    .dataframe tbody tr th:only-of-type {\n",
       "        vertical-align: middle;\n",
       "    }\n",
       "\n",
       "    .dataframe tbody tr th {\n",
       "        vertical-align: top;\n",
       "    }\n",
       "\n",
       "    .dataframe thead th {\n",
       "        text-align: right;\n",
       "    }\n",
       "</style>\n",
       "<table border=\"1\" class=\"dataframe\">\n",
       "  <thead>\n",
       "    <tr style=\"text-align: right;\">\n",
       "      <th></th>\n",
       "      <th>Date</th>\n",
       "      <th>Close</th>\n",
       "      <th>Predictions</th>\n",
       "    </tr>\n",
       "  </thead>\n",
       "  <tbody>\n",
       "    <tr>\n",
       "      <th>201</th>\n",
       "      <td>2022-09-14</td>\n",
       "      <td>302.609985</td>\n",
       "      <td>303.523138</td>\n",
       "    </tr>\n",
       "    <tr>\n",
       "      <th>202</th>\n",
       "      <td>2022-09-15</td>\n",
       "      <td>303.750000</td>\n",
       "      <td>307.415773</td>\n",
       "    </tr>\n",
       "    <tr>\n",
       "      <th>203</th>\n",
       "      <td>2022-09-16</td>\n",
       "      <td>303.350006</td>\n",
       "      <td>300.369741</td>\n",
       "    </tr>\n",
       "    <tr>\n",
       "      <th>204</th>\n",
       "      <td>2022-09-19</td>\n",
       "      <td>309.070007</td>\n",
       "      <td>306.501430</td>\n",
       "    </tr>\n",
       "    <tr>\n",
       "      <th>205</th>\n",
       "      <td>2022-09-20</td>\n",
       "      <td>308.730011</td>\n",
       "      <td>311.558870</td>\n",
       "    </tr>\n",
       "    <tr>\n",
       "      <th>206</th>\n",
       "      <td>2022-09-21</td>\n",
       "      <td>300.799988</td>\n",
       "      <td>306.536850</td>\n",
       "    </tr>\n",
       "    <tr>\n",
       "      <th>207</th>\n",
       "      <td>2022-09-22</td>\n",
       "      <td>288.589996</td>\n",
       "      <td>289.264484</td>\n",
       "    </tr>\n",
       "    <tr>\n",
       "      <th>208</th>\n",
       "      <td>2022-09-23</td>\n",
       "      <td>275.329987</td>\n",
       "      <td>275.804665</td>\n",
       "    </tr>\n",
       "    <tr>\n",
       "      <th>209</th>\n",
       "      <td>2022-09-26</td>\n",
       "      <td>276.010010</td>\n",
       "      <td>280.936434</td>\n",
       "    </tr>\n",
       "    <tr>\n",
       "      <th>210</th>\n",
       "      <td>2022-09-27</td>\n",
       "      <td>282.940002</td>\n",
       "      <td>282.776811</td>\n",
       "    </tr>\n",
       "    <tr>\n",
       "      <th>211</th>\n",
       "      <td>2022-09-28</td>\n",
       "      <td>287.809998</td>\n",
       "      <td>283.519450</td>\n",
       "    </tr>\n",
       "    <tr>\n",
       "      <th>212</th>\n",
       "      <td>2022-09-29</td>\n",
       "      <td>268.209991</td>\n",
       "      <td>269.217229</td>\n",
       "    </tr>\n",
       "    <tr>\n",
       "      <th>213</th>\n",
       "      <td>2022-09-30</td>\n",
       "      <td>265.250000</td>\n",
       "      <td>271.207575</td>\n",
       "    </tr>\n",
       "    <tr>\n",
       "      <th>214</th>\n",
       "      <td>2022-10-03</td>\n",
       "      <td>242.399994</td>\n",
       "      <td>244.240514</td>\n",
       "    </tr>\n",
       "    <tr>\n",
       "      <th>215</th>\n",
       "      <td>2022-10-04</td>\n",
       "      <td>249.440002</td>\n",
       "      <td>249.895416</td>\n",
       "    </tr>\n",
       "    <tr>\n",
       "      <th>216</th>\n",
       "      <td>2022-10-05</td>\n",
       "      <td>240.809998</td>\n",
       "      <td>236.977005</td>\n",
       "    </tr>\n",
       "    <tr>\n",
       "      <th>217</th>\n",
       "      <td>2022-10-06</td>\n",
       "      <td>238.130005</td>\n",
       "      <td>240.809001</td>\n",
       "    </tr>\n",
       "    <tr>\n",
       "      <th>218</th>\n",
       "      <td>2022-10-07</td>\n",
       "      <td>223.070007</td>\n",
       "      <td>224.907306</td>\n",
       "    </tr>\n",
       "    <tr>\n",
       "      <th>219</th>\n",
       "      <td>2022-10-10</td>\n",
       "      <td>222.960007</td>\n",
       "      <td>222.329980</td>\n",
       "    </tr>\n",
       "    <tr>\n",
       "      <th>220</th>\n",
       "      <td>2022-10-11</td>\n",
       "      <td>216.500000</td>\n",
       "      <td>220.512098</td>\n",
       "    </tr>\n",
       "    <tr>\n",
       "      <th>221</th>\n",
       "      <td>2022-10-12</td>\n",
       "      <td>217.240005</td>\n",
       "      <td>216.023179</td>\n",
       "    </tr>\n",
       "    <tr>\n",
       "      <th>222</th>\n",
       "      <td>2022-10-13</td>\n",
       "      <td>221.720001</td>\n",
       "      <td>219.380565</td>\n",
       "    </tr>\n",
       "    <tr>\n",
       "      <th>223</th>\n",
       "      <td>2022-10-14</td>\n",
       "      <td>204.990005</td>\n",
       "      <td>209.281592</td>\n",
       "    </tr>\n",
       "    <tr>\n",
       "      <th>224</th>\n",
       "      <td>2022-10-17</td>\n",
       "      <td>219.350006</td>\n",
       "      <td>220.024883</td>\n",
       "    </tr>\n",
       "    <tr>\n",
       "      <th>225</th>\n",
       "      <td>2022-10-18</td>\n",
       "      <td>220.190002</td>\n",
       "      <td>219.824257</td>\n",
       "    </tr>\n",
       "    <tr>\n",
       "      <th>226</th>\n",
       "      <td>2022-10-19</td>\n",
       "      <td>222.039993</td>\n",
       "      <td>221.436242</td>\n",
       "    </tr>\n",
       "    <tr>\n",
       "      <th>227</th>\n",
       "      <td>2022-10-20</td>\n",
       "      <td>207.279999</td>\n",
       "      <td>210.070703</td>\n",
       "    </tr>\n",
       "    <tr>\n",
       "      <th>228</th>\n",
       "      <td>2022-10-21</td>\n",
       "      <td>214.440002</td>\n",
       "      <td>211.703717</td>\n",
       "    </tr>\n",
       "    <tr>\n",
       "      <th>229</th>\n",
       "      <td>2022-10-24</td>\n",
       "      <td>211.250000</td>\n",
       "      <td>206.850289</td>\n",
       "    </tr>\n",
       "    <tr>\n",
       "      <th>230</th>\n",
       "      <td>2022-10-25</td>\n",
       "      <td>222.419998</td>\n",
       "      <td>222.678045</td>\n",
       "    </tr>\n",
       "    <tr>\n",
       "      <th>231</th>\n",
       "      <td>2022-10-26</td>\n",
       "      <td>224.639999</td>\n",
       "      <td>228.406008</td>\n",
       "    </tr>\n",
       "    <tr>\n",
       "      <th>232</th>\n",
       "      <td>2022-10-27</td>\n",
       "      <td>225.089996</td>\n",
       "      <td>227.636505</td>\n",
       "    </tr>\n",
       "    <tr>\n",
       "      <th>233</th>\n",
       "      <td>2022-10-28</td>\n",
       "      <td>228.520004</td>\n",
       "      <td>221.001045</td>\n",
       "    </tr>\n",
       "    <tr>\n",
       "      <th>234</th>\n",
       "      <td>2022-10-31</td>\n",
       "      <td>227.539993</td>\n",
       "      <td>226.161766</td>\n",
       "    </tr>\n",
       "    <tr>\n",
       "      <th>235</th>\n",
       "      <td>2022-11-01</td>\n",
       "      <td>227.820007</td>\n",
       "      <td>231.512809</td>\n",
       "    </tr>\n",
       "    <tr>\n",
       "      <th>236</th>\n",
       "      <td>2022-11-02</td>\n",
       "      <td>214.979996</td>\n",
       "      <td>218.317240</td>\n",
       "    </tr>\n",
       "    <tr>\n",
       "      <th>237</th>\n",
       "      <td>2022-11-03</td>\n",
       "      <td>215.309998</td>\n",
       "      <td>218.900945</td>\n",
       "    </tr>\n",
       "    <tr>\n",
       "      <th>238</th>\n",
       "      <td>2022-11-04</td>\n",
       "      <td>207.470001</td>\n",
       "      <td>207.398702</td>\n",
       "    </tr>\n",
       "    <tr>\n",
       "      <th>239</th>\n",
       "      <td>2022-11-07</td>\n",
       "      <td>197.080002</td>\n",
       "      <td>199.430515</td>\n",
       "    </tr>\n",
       "    <tr>\n",
       "      <th>240</th>\n",
       "      <td>2022-11-08</td>\n",
       "      <td>191.300003</td>\n",
       "      <td>190.275982</td>\n",
       "    </tr>\n",
       "    <tr>\n",
       "      <th>241</th>\n",
       "      <td>2022-11-09</td>\n",
       "      <td>177.589996</td>\n",
       "      <td>184.379699</td>\n",
       "    </tr>\n",
       "    <tr>\n",
       "      <th>242</th>\n",
       "      <td>2022-11-10</td>\n",
       "      <td>190.720001</td>\n",
       "      <td>183.814079</td>\n",
       "    </tr>\n",
       "    <tr>\n",
       "      <th>243</th>\n",
       "      <td>2022-11-11</td>\n",
       "      <td>195.970001</td>\n",
       "      <td>192.930470</td>\n",
       "    </tr>\n",
       "    <tr>\n",
       "      <th>244</th>\n",
       "      <td>2022-11-14</td>\n",
       "      <td>190.949997</td>\n",
       "      <td>190.697077</td>\n",
       "    </tr>\n",
       "    <tr>\n",
       "      <th>245</th>\n",
       "      <td>2022-11-15</td>\n",
       "      <td>194.419998</td>\n",
       "      <td>197.702443</td>\n",
       "    </tr>\n",
       "    <tr>\n",
       "      <th>246</th>\n",
       "      <td>2022-11-16</td>\n",
       "      <td>186.919998</td>\n",
       "      <td>188.111392</td>\n",
       "    </tr>\n",
       "    <tr>\n",
       "      <th>247</th>\n",
       "      <td>2022-11-17</td>\n",
       "      <td>183.169998</td>\n",
       "      <td>183.954234</td>\n",
       "    </tr>\n",
       "    <tr>\n",
       "      <th>248</th>\n",
       "      <td>2022-11-18</td>\n",
       "      <td>180.190002</td>\n",
       "      <td>178.677464</td>\n",
       "    </tr>\n",
       "    <tr>\n",
       "      <th>249</th>\n",
       "      <td>2022-11-21</td>\n",
       "      <td>167.869995</td>\n",
       "      <td>170.509721</td>\n",
       "    </tr>\n",
       "    <tr>\n",
       "      <th>250</th>\n",
       "      <td>2022-11-22</td>\n",
       "      <td>169.910004</td>\n",
       "      <td>169.468898</td>\n",
       "    </tr>\n",
       "    <tr>\n",
       "      <th>251</th>\n",
       "      <td>2022-11-23</td>\n",
       "      <td>183.199997</td>\n",
       "      <td>182.185429</td>\n",
       "    </tr>\n",
       "  </tbody>\n",
       "</table>\n",
       "</div>"
      ],
      "text/plain": [
       "          Date       Close  Predictions\n",
       "201 2022-09-14  302.609985   303.523138\n",
       "202 2022-09-15  303.750000   307.415773\n",
       "203 2022-09-16  303.350006   300.369741\n",
       "204 2022-09-19  309.070007   306.501430\n",
       "205 2022-09-20  308.730011   311.558870\n",
       "206 2022-09-21  300.799988   306.536850\n",
       "207 2022-09-22  288.589996   289.264484\n",
       "208 2022-09-23  275.329987   275.804665\n",
       "209 2022-09-26  276.010010   280.936434\n",
       "210 2022-09-27  282.940002   282.776811\n",
       "211 2022-09-28  287.809998   283.519450\n",
       "212 2022-09-29  268.209991   269.217229\n",
       "213 2022-09-30  265.250000   271.207575\n",
       "214 2022-10-03  242.399994   244.240514\n",
       "215 2022-10-04  249.440002   249.895416\n",
       "216 2022-10-05  240.809998   236.977005\n",
       "217 2022-10-06  238.130005   240.809001\n",
       "218 2022-10-07  223.070007   224.907306\n",
       "219 2022-10-10  222.960007   222.329980\n",
       "220 2022-10-11  216.500000   220.512098\n",
       "221 2022-10-12  217.240005   216.023179\n",
       "222 2022-10-13  221.720001   219.380565\n",
       "223 2022-10-14  204.990005   209.281592\n",
       "224 2022-10-17  219.350006   220.024883\n",
       "225 2022-10-18  220.190002   219.824257\n",
       "226 2022-10-19  222.039993   221.436242\n",
       "227 2022-10-20  207.279999   210.070703\n",
       "228 2022-10-21  214.440002   211.703717\n",
       "229 2022-10-24  211.250000   206.850289\n",
       "230 2022-10-25  222.419998   222.678045\n",
       "231 2022-10-26  224.639999   228.406008\n",
       "232 2022-10-27  225.089996   227.636505\n",
       "233 2022-10-28  228.520004   221.001045\n",
       "234 2022-10-31  227.539993   226.161766\n",
       "235 2022-11-01  227.820007   231.512809\n",
       "236 2022-11-02  214.979996   218.317240\n",
       "237 2022-11-03  215.309998   218.900945\n",
       "238 2022-11-04  207.470001   207.398702\n",
       "239 2022-11-07  197.080002   199.430515\n",
       "240 2022-11-08  191.300003   190.275982\n",
       "241 2022-11-09  177.589996   184.379699\n",
       "242 2022-11-10  190.720001   183.814079\n",
       "243 2022-11-11  195.970001   192.930470\n",
       "244 2022-11-14  190.949997   190.697077\n",
       "245 2022-11-15  194.419998   197.702443\n",
       "246 2022-11-16  186.919998   188.111392\n",
       "247 2022-11-17  183.169998   183.954234\n",
       "248 2022-11-18  180.190002   178.677464\n",
       "249 2022-11-21  167.869995   170.509721\n",
       "250 2022-11-22  169.910004   169.468898\n",
       "251 2022-11-23  183.199997   182.185429"
      ]
     },
     "execution_count": 566,
     "metadata": {},
     "output_type": "execute_result"
    }
   ],
   "source": [
    "valid[['Date', 'Close', 'Predictions']]"
   ]
  }
 ],
 "metadata": {
  "kernelspec": {
   "display_name": "Python 3 (ipykernel)",
   "language": "python",
   "name": "python3"
  },
  "language_info": {
   "codemirror_mode": {
    "name": "ipython",
    "version": 3
   },
   "file_extension": ".py",
   "mimetype": "text/x-python",
   "name": "python",
   "nbconvert_exporter": "python",
   "pygments_lexer": "ipython3",
   "version": "3.11.0"
  },
  "vscode": {
   "interpreter": {
    "hash": "61a7c50af8b181cc318b83f8314fada01f2eea9d42d9b50b3f4161e4f2304438"
   }
  }
 },
 "nbformat": 4,
 "nbformat_minor": 5
}
